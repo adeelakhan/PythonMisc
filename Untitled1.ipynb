{
 "cells": [
  {
   "cell_type": "code",
   "execution_count": 1,
   "metadata": {},
   "outputs": [],
   "source": [
    "import pandas as pd\n",
    "import timeit\n",
    "import numpy as np\n",
    "#Read CSV and add to Pandas DF\n",
    "df=pd.read_csv('stats.csv',',')\n",
    "\n",
    "#Substract RUN_TS from SCHEDULE_BEGIN_TS and add answer to a new diff column\n",
    "df['diff'] = pd.to_datetime(df.RUN_TS) - pd.to_datetime(df.SCHEDULE_BEGIN_TS)\n",
    "#Convert diff to seconds in a new column seconds\n",
    "df['seconds'] = df['diff'].dt.total_seconds()\n",
    "\n"
   ]
  },
  {
   "cell_type": "code",
   "execution_count": null,
   "metadata": {},
   "outputs": [],
   "source": [
    "%%timeit\n",
    "#Working. Creates buckets based on 5 minute slices\n",
    "Bucket = []\n",
    "for index, row in df.iterrows():\n",
    "    if 0 <= row.seconds <= 300:\n",
    "        Bucket.append(\"5\")\n",
    "    elif 301 <= row.seconds <= 600:\n",
    "        Bucket.append(\"10\")\n",
    "    elif 601 <= row.seconds <= 900:\n",
    "        Bucket.append(\"15\")\n",
    "    elif 901 <= row.seconds <= 1200:\n",
    "        Bucket.append(\"20\")\n",
    "    elif 1201 <= row.seconds <= 1500:\n",
    "        Bucket.append(\"25\")\n",
    "    elif 1501 <= row.seconds <= 1800:\n",
    "        Bucket.append(\"30\")\n",
    "    elif 1801 <= row.seconds <= 2100:\n",
    "        Bucket.append(\"35\")\n",
    "    else:\n",
    "        Bucket.append(\">35\")\n",
    "df[\"Bucket\"]= Bucket\n",
    "\n",
    "\n"
   ]
  },
  {
   "cell_type": "code",
   "execution_count": null,
   "metadata": {},
   "outputs": [],
   "source": [
    "# Group by Bucket and GW_NET_DEVICE_ID\n",
    "df_output=df.groupby(['Bucket','GW_NET_DEVICE_ID']).count()\n",
    "\n",
    "#Create a pivot table with rows 'GW_NET_DEVICE_ID' and columns 'Bucket'\n",
    "table = pd.pivot_table(df_output, index=['GW_NET_DEVICE_ID'], values=['UTIL_DEVICE_ID'], columns=['Bucket'],fill_value=0)\n",
    "\n",
    "\n",
    "#Output to csv\n",
    "#table.to_csv('pypivot.csv')\n",
    "\n",
    "#Pivot Table sort does not work as expected, pop '5''and insert back to first position to make cumulative function work\n",
    "table=table.UTIL_DEVICE_ID\n",
    "t5=table.pop('5')\n",
    "table.insert(0,'5',t5)\n",
    "table.head(1)\n",
    "\n",
    "#Create a DF with cumulative sum\n",
    "table=table.cumsum(axis=1)\n",
    "table.head(1)\n",
    "\n",
    "#Divide each column by cumulative sum\n",
    "table = table.loc[:,\"5\":\">35\"].div(table[\">35\"], axis=0)\n",
    "#table.head(10)\n",
    "\n",
    "\n",
    "#Output to csv\n",
    "table.to_csv('pypivot2.csv')"
   ]
  }
 ],
 "metadata": {
  "kernelspec": {
   "display_name": "Python 3",
   "language": "python",
   "name": "python3"
  },
  "language_info": {
   "codemirror_mode": {
    "name": "ipython",
    "version": 3
   },
   "file_extension": ".py",
   "mimetype": "text/x-python",
   "name": "python",
   "nbconvert_exporter": "python",
   "pygments_lexer": "ipython3",
   "version": "3.7.6"
  }
 },
 "nbformat": 4,
 "nbformat_minor": 4
}
