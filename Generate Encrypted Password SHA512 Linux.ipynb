{
 "cells": [
  {
   "cell_type": "code",
   "execution_count": 3,
   "metadata": {},
   "outputs": [
    {
     "name": "stdout",
     "output_type": "stream",
     "text": [
      "········\n",
      "$6$xZ0/Ofo9GEBUcCP2$Jj7/SY9B0HrShPeXCHgFpQLvf23IBbRYPGzVqeRqt8p/qaDTYqMAie8/abAwb4MxOlEcD4If2mVrNaQ8Yjtzw/\n"
     ]
    }
   ],
   "source": [
    "from passlib.hash import sha512_crypt\n",
    "import getpass\n",
    "print(sha512_crypt.using(rounds=5000).hash(getpass.getpass()))"
   ]
  },
  {
   "cell_type": "code",
   "execution_count": 2,
   "metadata": {},
   "outputs": [
    {
     "name": "stdout",
     "output_type": "stream",
     "text": [
      "Collecting passlib\n",
      "  Downloading passlib-1.7.4-py2.py3-none-any.whl (525 kB)\n",
      "\u001b[K     |████████████████████████████████| 525 kB 1.6 MB/s eta 0:00:01\n",
      "\u001b[?25hInstalling collected packages: passlib\n",
      "Successfully installed passlib-1.7.4\n"
     ]
    }
   ],
   "source": [
    "!pip install passlib"
   ]
  },
  {
   "cell_type": "code",
   "execution_count": null,
   "metadata": {},
   "outputs": [],
   "source": []
  }
 ],
 "metadata": {
  "kernelspec": {
   "display_name": "Python 3",
   "language": "python",
   "name": "python3"
  },
  "language_info": {
   "codemirror_mode": {
    "name": "ipython",
    "version": 3
   },
   "file_extension": ".py",
   "mimetype": "text/x-python",
   "name": "python",
   "nbconvert_exporter": "python",
   "pygments_lexer": "ipython3",
   "version": "3.8.5"
  }
 },
 "nbformat": 4,
 "nbformat_minor": 2
}
