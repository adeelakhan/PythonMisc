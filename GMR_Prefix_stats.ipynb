{
 "cells": [
  {
   "cell_type": "code",
   "execution_count": 2,
   "metadata": {},
   "outputs": [],
   "source": [
    "import pandas as pd\n",
    "import datetime\n",
    "\n",
    "#Enter input filename\n",
    "input_file = 'prefix_stats_u27_19Aug'\n",
    "\n",
    "#Enter output filename\n",
    "output_file = 'prefix_stats_u27_19Aug.csv'\n",
    "\n",
    "#Add Log filename here to analyze\n",
    "df = pd.read_csv(input_file,header =None, delim_whitespace=True)\n",
    "df.dropna(inplace = True)\n",
    "\n",
    "for i in range(1,7):\n",
    "    del df[i]\n",
    "\n",
    "new = df[12].str.split(\",\", n=1, expand=True)\n",
    "df['Sent'] = new[0]\n",
    "df['Remaining'] = new[1]\n",
    "\n",
    "del df[12]\n",
    "headings = [\"DateTime\",\"Prefix\",\"Rate\",\"RTT\",\"Sendable\",\"Dequeued\",\"Success\",\"Timeout\",\"Expired\",\"Cancelled\",\"Failed\",\"Decay\",\"PIF\",\"MINPIF\",\"MAXPIF\",\"P0\",\"P1\",\"P2\",\"P3\",\"P4\",\"Delayed\", \"Sent\", \"Remaining\"]\n",
    "\n",
    "df.columns = headings\n",
    "\n",
    "new = df[\"Prefix\"].str.split(\"prefix=\", n=1 , expand = True)\n",
    "df[\"Prefix\"] = new[1]\n",
    "\n",
    "#Strip parameter names as they are defined in columns\n",
    "df[\"Rate\"] = df[\"Rate\"].map(lambda x: x.lstrip(' rate='))\n",
    "df[\"RTT\"] = df[\"RTT\"].map(lambda x: x.lstrip(' rtt='))\n",
    "df[\"Sendable\"] = df[\"Sendable\"].map(lambda x: x.lstrip(' sendable='))\n",
    "df[\"Dequeued\"] = df[\"Dequeued\"].map(lambda x: x.lstrip(' dequeued='))\n",
    "df[\"Sent\"] = df[\"Sent\"].map(lambda x: x.lstrip(' sent='))\n",
    "df[\"Remaining\"] = df[\"Remaining\"].map(lambda x: x.lstrip(' remaining='))\n",
    "df[\"Success\"] = df[\"Success\"].map(lambda x: x.lstrip(' success='))\n",
    "df[\"Timeout\"] = df[\"Timeout\"].map(lambda x: x.lstrip(' timeout='))\n",
    "df[\"Success\"] = df[\"Success\"].map(lambda x: x.lstrip(' success='))\n",
    "df[\"Expired\"] =df[\"Expired\"].map(lambda x: x.lstrip(' expired='))\n",
    "df[\"Cancelled\"] =df[\"Cancelled\"].map(lambda x: x.lstrip(' cancelled='))\n",
    "df[\"Failed\"] =df[\"Failed\"].map(lambda x: x.lstrip(' failed='))\n",
    "df[\"Decay\"] =df[\"Decay\"].map(lambda x: x.lstrip(' decay='))\n",
    "df[\"PIF\"] =df[\"PIF\"].map(lambda x: x.lstrip(' pif='))\n",
    "df[\"MINPIF\"] =df[\"MINPIF\"].map(lambda x: x.lstrip(' minPif='))\n",
    "df[\"MAXPIF\"] =df[\"MAXPIF\"].map(lambda x: x.lstrip(' maxPif='))\n",
    "df[\"P0\"] =df[\"P0\"].map(lambda x: x.lstrip(' P0='))\n",
    "df[\"P1\"] =df[\"P1\"].map(lambda x: x.lstrip(' P1='))\n",
    "df[\"P2\"] =df[\"P2\"].map(lambda x: x.lstrip(' P2='))\n",
    "df[\"P3\"] =df[\"P3\"].map(lambda x: x.lstrip(' P3='))\n",
    "df[\"P4\"] =df[\"P4\"].map(lambda x: x.lstrip(' P4='))\n",
    "df[\"Delayed\"] =df[\"Delayed\"].map(lambda x: x.lstrip(' Delayed='))\n",
    "df['DateTime'] = pd.to_datetime(df['DateTime']).dt.tz_convert('Australia/Melbourne').dt.strftime('%r')\n",
    "\n",
    "\n",
    "\n",
    "df['Rate'] = df['Rate'].str.replace(',', '')\n",
    "df['Prefix'] = df['Prefix'].str.replace(',', '')\n",
    "df['RTT']= df['RTT'].str.replace(',', '')\n",
    "df['Sendable'] = df['Sendable'].str.replace(',', '')\n",
    "df['Dequeued'] = df['Dequeued'].str.replace(',','')\n",
    "df['Success'] = df['Success'].str.replace(',','')\n",
    "df['Timeout'] = df['Timeout'].str.replace(',','')\n",
    "df['Expired'] = df['Expired'].str.replace(',','')\n",
    "df['Cancelled'] = df['Cancelled'].str.replace(',','')\n",
    "df['Failed'] = df['Failed'].str.replace(',','')\n",
    "df['Decay'] = df['Decay'].str.replace(',','')\n",
    "df['PIF'] = df['PIF'].str.replace(',','')\n",
    "df['MINPIF'] = df['MINPIF'].str.replace(',','')\n",
    "df['MAXPIF'] = df['MAXPIF'].str.replace(',','')\n",
    "df['Remaining'] = df['Remaining'].str.replace(',','')\n",
    "del df['P0']\n",
    "del df['P1']\n",
    "del df['P2']\n",
    "del df['P3']\n",
    "del df['P4']\n",
    "\n",
    "df.to_csv(output_file,index=False)\n",
    "\n",
    "\n"
   ]
  },
  {
   "cell_type": "code",
   "execution_count": null,
   "metadata": {},
   "outputs": [],
   "source": []
  },
  {
   "cell_type": "code",
   "execution_count": null,
   "metadata": {},
   "outputs": [],
   "source": []
  },
  {
   "cell_type": "code",
   "execution_count": null,
   "metadata": {},
   "outputs": [],
   "source": []
  },
  {
   "cell_type": "code",
   "execution_count": null,
   "metadata": {},
   "outputs": [],
   "source": []
  },
  {
   "cell_type": "code",
   "execution_count": null,
   "metadata": {},
   "outputs": [],
   "source": []
  },
  {
   "cell_type": "code",
   "execution_count": null,
   "metadata": {},
   "outputs": [],
   "source": []
  },
  {
   "cell_type": "code",
   "execution_count": null,
   "metadata": {},
   "outputs": [],
   "source": []
  },
  {
   "cell_type": "code",
   "execution_count": null,
   "metadata": {},
   "outputs": [],
   "source": []
  }
 ],
 "metadata": {
  "kernelspec": {
   "display_name": "Python 3",
   "language": "python",
   "name": "python3"
  },
  "language_info": {
   "codemirror_mode": {
    "name": "ipython",
    "version": 3
   },
   "file_extension": ".py",
   "mimetype": "text/x-python",
   "name": "python",
   "nbconvert_exporter": "python",
   "pygments_lexer": "ipython3",
   "version": "3.7.6"
  }
 },
 "nbformat": 4,
 "nbformat_minor": 4
}
